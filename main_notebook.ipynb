{
 "cells": [
  {
   "cell_type": "markdown",
   "metadata": {},
   "source": [
    "![logo_ironhack_blue 7](https://user-images.githubusercontent.com/23629340/40541063-a07a0a8a-601a-11e8-91b5-2f13e4e6b441.png)\n",
    "\n",
    "# Lab | Cleaning numerical data\n",
    "\n",
    "For this lab, we will be using the dataset in the Customer Analysis Business Case. This dataset can be found in `files_for_lab` folder.\n",
    "\n",
    "## Context\n",
    "\n",
    "An auto insurance company has collected some data about its customers including their _demographics_, _education_, _employment_, _policy details_, _vehicle information_ on which insurance policy is, and _claim amounts_. You will help the senior management with some business questions that will help them to better understand their customers, improve their services, and improve profitability.\n",
    "\n",
    "**Some business Objectives**:\n",
    "\n",
    "- Retain customers,\n",
    "- Analyze relevant customer data,\n",
    "- Develop focused customer retention programs.\n",
    "\n",
    "Based on the analysis, take targeted actions to increase profitable customer response, retention, and growth.\n",
    "\n",
    "### Instructions\n",
    "\n",
    "1. Import the necessary libraries.\n",
    "\n",
    "2. Load the we_fn_use_c_marketing_customer_value_analysis.csv into the variable customer_df\n",
    "\n",
    "3. First look at its main features (head, shape, info).\n",
    "\n",
    "4. Rename the columns so they follow the PE8 (snake case) (lower_case_with_underscores)\n",
    "\n",
    "5. Change effective to date column to datetime format.\n",
    "\n",
    "6. Define a function that differentiates between continuous and discrete variables. Hint: The number of unique values might be useful. Store continuous data into a continuous_df variable and do the same for discrete_df\n",
    "\n",
    "7. Plot a correlation matrix, comment what you see.\n",
    "\n",
    "8. Create a function to plot every discrete variable.  Do the same with the continuous variables (Be Careful, you may need to change the plot type to one better suited for continuous data!)\n",
    "\n",
    "9. Comment what you can see in the plots.\n",
    "\n",
    "10. Look for outliers in the continuous variables. (HINT: There’s a good plot to do that!)\n",
    "\n",
    "11. Did you find outliers?  Comment what you will do with them.\n",
    "\n",
    "12. Check all columns for NaN values.  Decide what (if anything) you will need to do with them.\n",
    "\n"
   ]
  },
  {
   "cell_type": "markdown",
   "metadata": {},
   "source": [
    "# 1 Import the necessary libraries."
   ]
  },
  {
   "cell_type": "code",
   "execution_count": 66,
   "metadata": {},
   "outputs": [],
   "source": [
    "import pandas as pd\n",
    "import seaborn as sns\n",
    "import matplotlib.pyplot as plt\n",
    "import numpy as np\n"
   ]
  },
  {
   "cell_type": "markdown",
   "metadata": {},
   "source": [
    "# 2 Load the we_fn_use_c_marketing_customer_value_analysis.csv into the variable customer_df"
   ]
  },
  {
   "cell_type": "code",
   "execution_count": 67,
   "metadata": {},
   "outputs": [],
   "source": [
    "df = pd.read_csv('files_for_lab\\we_fn_use_c_marketing_customer_value_analysis.csv')"
   ]
  },
  {
   "cell_type": "markdown",
   "metadata": {},
   "source": [
    "# 3 First look at its main features (head, shape, info)."
   ]
  },
  {
   "cell_type": "code",
   "execution_count": 68,
   "metadata": {},
   "outputs": [
    {
     "data": {
      "text/html": [
       "<div>\n",
       "<style scoped>\n",
       "    .dataframe tbody tr th:only-of-type {\n",
       "        vertical-align: middle;\n",
       "    }\n",
       "\n",
       "    .dataframe tbody tr th {\n",
       "        vertical-align: top;\n",
       "    }\n",
       "\n",
       "    .dataframe thead th {\n",
       "        text-align: right;\n",
       "    }\n",
       "</style>\n",
       "<table border=\"1\" class=\"dataframe\">\n",
       "  <thead>\n",
       "    <tr style=\"text-align: right;\">\n",
       "      <th></th>\n",
       "      <th>Customer</th>\n",
       "      <th>State</th>\n",
       "      <th>Customer Lifetime Value</th>\n",
       "      <th>Response</th>\n",
       "      <th>Coverage</th>\n",
       "      <th>Education</th>\n",
       "      <th>Effective To Date</th>\n",
       "      <th>EmploymentStatus</th>\n",
       "      <th>Gender</th>\n",
       "      <th>Income</th>\n",
       "      <th>...</th>\n",
       "      <th>Months Since Policy Inception</th>\n",
       "      <th>Number of Open Complaints</th>\n",
       "      <th>Number of Policies</th>\n",
       "      <th>Policy Type</th>\n",
       "      <th>Policy</th>\n",
       "      <th>Renew Offer Type</th>\n",
       "      <th>Sales Channel</th>\n",
       "      <th>Total Claim Amount</th>\n",
       "      <th>Vehicle Class</th>\n",
       "      <th>Vehicle Size</th>\n",
       "    </tr>\n",
       "  </thead>\n",
       "  <tbody>\n",
       "    <tr>\n",
       "      <th>0</th>\n",
       "      <td>BU79786</td>\n",
       "      <td>Washington</td>\n",
       "      <td>2763.519279</td>\n",
       "      <td>No</td>\n",
       "      <td>Basic</td>\n",
       "      <td>Bachelor</td>\n",
       "      <td>2/24/11</td>\n",
       "      <td>Employed</td>\n",
       "      <td>F</td>\n",
       "      <td>56274</td>\n",
       "      <td>...</td>\n",
       "      <td>5</td>\n",
       "      <td>0</td>\n",
       "      <td>1</td>\n",
       "      <td>Corporate Auto</td>\n",
       "      <td>Corporate L3</td>\n",
       "      <td>Offer1</td>\n",
       "      <td>Agent</td>\n",
       "      <td>384.811147</td>\n",
       "      <td>Two-Door Car</td>\n",
       "      <td>Medsize</td>\n",
       "    </tr>\n",
       "    <tr>\n",
       "      <th>1</th>\n",
       "      <td>QZ44356</td>\n",
       "      <td>Arizona</td>\n",
       "      <td>6979.535903</td>\n",
       "      <td>No</td>\n",
       "      <td>Extended</td>\n",
       "      <td>Bachelor</td>\n",
       "      <td>1/31/11</td>\n",
       "      <td>Unemployed</td>\n",
       "      <td>F</td>\n",
       "      <td>0</td>\n",
       "      <td>...</td>\n",
       "      <td>42</td>\n",
       "      <td>0</td>\n",
       "      <td>8</td>\n",
       "      <td>Personal Auto</td>\n",
       "      <td>Personal L3</td>\n",
       "      <td>Offer3</td>\n",
       "      <td>Agent</td>\n",
       "      <td>1131.464935</td>\n",
       "      <td>Four-Door Car</td>\n",
       "      <td>Medsize</td>\n",
       "    </tr>\n",
       "    <tr>\n",
       "      <th>2</th>\n",
       "      <td>AI49188</td>\n",
       "      <td>Nevada</td>\n",
       "      <td>12887.431650</td>\n",
       "      <td>No</td>\n",
       "      <td>Premium</td>\n",
       "      <td>Bachelor</td>\n",
       "      <td>2/19/11</td>\n",
       "      <td>Employed</td>\n",
       "      <td>F</td>\n",
       "      <td>48767</td>\n",
       "      <td>...</td>\n",
       "      <td>38</td>\n",
       "      <td>0</td>\n",
       "      <td>2</td>\n",
       "      <td>Personal Auto</td>\n",
       "      <td>Personal L3</td>\n",
       "      <td>Offer1</td>\n",
       "      <td>Agent</td>\n",
       "      <td>566.472247</td>\n",
       "      <td>Two-Door Car</td>\n",
       "      <td>Medsize</td>\n",
       "    </tr>\n",
       "    <tr>\n",
       "      <th>3</th>\n",
       "      <td>WW63253</td>\n",
       "      <td>California</td>\n",
       "      <td>7645.861827</td>\n",
       "      <td>No</td>\n",
       "      <td>Basic</td>\n",
       "      <td>Bachelor</td>\n",
       "      <td>1/20/11</td>\n",
       "      <td>Unemployed</td>\n",
       "      <td>M</td>\n",
       "      <td>0</td>\n",
       "      <td>...</td>\n",
       "      <td>65</td>\n",
       "      <td>0</td>\n",
       "      <td>7</td>\n",
       "      <td>Corporate Auto</td>\n",
       "      <td>Corporate L2</td>\n",
       "      <td>Offer1</td>\n",
       "      <td>Call Center</td>\n",
       "      <td>529.881344</td>\n",
       "      <td>SUV</td>\n",
       "      <td>Medsize</td>\n",
       "    </tr>\n",
       "    <tr>\n",
       "      <th>4</th>\n",
       "      <td>HB64268</td>\n",
       "      <td>Washington</td>\n",
       "      <td>2813.692575</td>\n",
       "      <td>No</td>\n",
       "      <td>Basic</td>\n",
       "      <td>Bachelor</td>\n",
       "      <td>2/3/11</td>\n",
       "      <td>Employed</td>\n",
       "      <td>M</td>\n",
       "      <td>43836</td>\n",
       "      <td>...</td>\n",
       "      <td>44</td>\n",
       "      <td>0</td>\n",
       "      <td>1</td>\n",
       "      <td>Personal Auto</td>\n",
       "      <td>Personal L1</td>\n",
       "      <td>Offer1</td>\n",
       "      <td>Agent</td>\n",
       "      <td>138.130879</td>\n",
       "      <td>Four-Door Car</td>\n",
       "      <td>Medsize</td>\n",
       "    </tr>\n",
       "  </tbody>\n",
       "</table>\n",
       "<p>5 rows × 24 columns</p>\n",
       "</div>"
      ],
      "text/plain": [
       "  Customer       State  Customer Lifetime Value Response  Coverage Education  \\\n",
       "0  BU79786  Washington              2763.519279       No     Basic  Bachelor   \n",
       "1  QZ44356     Arizona              6979.535903       No  Extended  Bachelor   \n",
       "2  AI49188      Nevada             12887.431650       No   Premium  Bachelor   \n",
       "3  WW63253  California              7645.861827       No     Basic  Bachelor   \n",
       "4  HB64268  Washington              2813.692575       No     Basic  Bachelor   \n",
       "\n",
       "  Effective To Date EmploymentStatus Gender  Income  ...  \\\n",
       "0           2/24/11         Employed      F   56274  ...   \n",
       "1           1/31/11       Unemployed      F       0  ...   \n",
       "2           2/19/11         Employed      F   48767  ...   \n",
       "3           1/20/11       Unemployed      M       0  ...   \n",
       "4            2/3/11         Employed      M   43836  ...   \n",
       "\n",
       "  Months Since Policy Inception Number of Open Complaints  Number of Policies  \\\n",
       "0                             5                         0                   1   \n",
       "1                            42                         0                   8   \n",
       "2                            38                         0                   2   \n",
       "3                            65                         0                   7   \n",
       "4                            44                         0                   1   \n",
       "\n",
       "      Policy Type        Policy  Renew Offer Type  Sales Channel  \\\n",
       "0  Corporate Auto  Corporate L3            Offer1          Agent   \n",
       "1   Personal Auto   Personal L3            Offer3          Agent   \n",
       "2   Personal Auto   Personal L3            Offer1          Agent   \n",
       "3  Corporate Auto  Corporate L2            Offer1    Call Center   \n",
       "4   Personal Auto   Personal L1            Offer1          Agent   \n",
       "\n",
       "  Total Claim Amount  Vehicle Class Vehicle Size  \n",
       "0         384.811147   Two-Door Car      Medsize  \n",
       "1        1131.464935  Four-Door Car      Medsize  \n",
       "2         566.472247   Two-Door Car      Medsize  \n",
       "3         529.881344            SUV      Medsize  \n",
       "4         138.130879  Four-Door Car      Medsize  \n",
       "\n",
       "[5 rows x 24 columns]"
      ]
     },
     "metadata": {},
     "output_type": "display_data"
    },
    {
     "data": {
      "text/plain": [
       "(9134, 24)"
      ]
     },
     "metadata": {},
     "output_type": "display_data"
    },
    {
     "name": "stdout",
     "output_type": "stream",
     "text": [
      "<class 'pandas.core.frame.DataFrame'>\n",
      "RangeIndex: 9134 entries, 0 to 9133\n",
      "Data columns (total 24 columns):\n",
      " #   Column                         Non-Null Count  Dtype  \n",
      "---  ------                         --------------  -----  \n",
      " 0   Customer                       9134 non-null   object \n",
      " 1   State                          9134 non-null   object \n",
      " 2   Customer Lifetime Value        9134 non-null   float64\n",
      " 3   Response                       9134 non-null   object \n",
      " 4   Coverage                       9134 non-null   object \n",
      " 5   Education                      9134 non-null   object \n",
      " 6   Effective To Date              9134 non-null   object \n",
      " 7   EmploymentStatus               9134 non-null   object \n",
      " 8   Gender                         9134 non-null   object \n",
      " 9   Income                         9134 non-null   int64  \n",
      " 10  Location Code                  9134 non-null   object \n",
      " 11  Marital Status                 9134 non-null   object \n",
      " 12  Monthly Premium Auto           9134 non-null   int64  \n",
      " 13  Months Since Last Claim        9134 non-null   int64  \n",
      " 14  Months Since Policy Inception  9134 non-null   int64  \n",
      " 15  Number of Open Complaints      9134 non-null   int64  \n",
      " 16  Number of Policies             9134 non-null   int64  \n",
      " 17  Policy Type                    9134 non-null   object \n",
      " 18  Policy                         9134 non-null   object \n",
      " 19  Renew Offer Type               9134 non-null   object \n",
      " 20  Sales Channel                  9134 non-null   object \n",
      " 21  Total Claim Amount             9134 non-null   float64\n",
      " 22  Vehicle Class                  9134 non-null   object \n",
      " 23  Vehicle Size                   9134 non-null   object \n",
      "dtypes: float64(2), int64(6), object(16)\n",
      "memory usage: 1.7+ MB\n"
     ]
    },
    {
     "data": {
      "text/plain": [
       "None"
      ]
     },
     "metadata": {},
     "output_type": "display_data"
    }
   ],
   "source": [
    "display(df.head())\n",
    "display(df.shape)\n",
    "display(df.info())\n"
   ]
  },
  {
   "cell_type": "markdown",
   "metadata": {},
   "source": [
    "# 4 Rename the columns so they follow the PE8 (snake case) (lower_case_with_underscores)"
   ]
  },
  {
   "cell_type": "code",
   "execution_count": 69,
   "metadata": {},
   "outputs": [],
   "source": [
    "df.columns = df.columns.str.lower().str.replace(' ', '_').str.replace('.', '', regex=True)"
   ]
  },
  {
   "cell_type": "code",
   "execution_count": 70,
   "metadata": {},
   "outputs": [
    {
     "data": {
      "text/plain": [
       "Index(['customer', 'state', 'customer_lifetime_value', 'response', 'coverage',\n",
       "       'education', 'effective_to_date', 'employmentstatus', 'gender',\n",
       "       'income', 'location_code', 'marital_status', 'monthly_premium_auto',\n",
       "       'months_since_last_claim', 'months_since_policy_inception',\n",
       "       'number_of_open_complaints', 'number_of_policies', 'policy_type',\n",
       "       'policy', 'renew_offer_type', 'sales_channel', 'total_claim_amount',\n",
       "       'vehicle_class', 'vehicle_size'],\n",
       "      dtype='object')"
      ]
     },
     "execution_count": 70,
     "metadata": {},
     "output_type": "execute_result"
    }
   ],
   "source": [
    "df.columns"
   ]
  },
  {
   "cell_type": "markdown",
   "metadata": {},
   "source": [
    "# 5 Change effective to date column to datetime format."
   ]
  },
  {
   "cell_type": "code",
   "execution_count": 71,
   "metadata": {},
   "outputs": [],
   "source": [
    "df['effective_to_date'] = pd.to_datetime(df['effective_to_date'], errors='coerce')"
   ]
  },
  {
   "cell_type": "markdown",
   "metadata": {},
   "source": [
    "# 6 Define a function that differentiates between continuous and discrete variables. Hint: The number of unique values might be \n",
    "# useful. Store continuous data into a continuous_df variable and do the same for discrete_df"
   ]
  },
  {
   "cell_type": "code",
   "execution_count": 72,
   "metadata": {},
   "outputs": [],
   "source": [
    "num = df.select_dtypes(include=[np.number])"
   ]
  },
  {
   "cell_type": "code",
   "execution_count": 73,
   "metadata": {},
   "outputs": [],
   "source": [
    "num_con = pd.DataFrame()\n",
    "num_dis = pd.DataFrame()\n",
    "def continuous_or_discrete():\n",
    "    for x in num.columns:        \n",
    "        if ((num[x].nunique())>=7):\n",
    "            num_con[x] = num[x]\n",
    "        else:\n",
    "            num_dis[x] = num[x]"
   ]
  },
  {
   "cell_type": "code",
   "execution_count": 74,
   "metadata": {},
   "outputs": [],
   "source": [
    "continuous_or_discrete()"
   ]
  },
  {
   "cell_type": "code",
   "execution_count": 75,
   "metadata": {},
   "outputs": [
    {
     "data": {
      "text/plain": [
       "Index(['customer_lifetime_value', 'income', 'monthly_premium_auto',\n",
       "       'months_since_last_claim', 'months_since_policy_inception',\n",
       "       'number_of_policies', 'total_claim_amount'],\n",
       "      dtype='object')"
      ]
     },
     "execution_count": 75,
     "metadata": {},
     "output_type": "execute_result"
    }
   ],
   "source": [
    "num_con.columns\n"
   ]
  },
  {
   "cell_type": "code",
   "execution_count": 76,
   "metadata": {},
   "outputs": [
    {
     "data": {
      "text/plain": [
       "Index(['number_of_open_complaints'], dtype='object')"
      ]
     },
     "execution_count": 76,
     "metadata": {},
     "output_type": "execute_result"
    }
   ],
   "source": [
    "num_dis.columns"
   ]
  },
  {
   "cell_type": "markdown",
   "metadata": {},
   "source": [
    "# 7 Plot a correlation matrix, comment what you see."
   ]
  },
  {
   "cell_type": "code",
   "execution_count": 77,
   "metadata": {},
   "outputs": [
    {
     "data": {
      "text/html": [
       "<div>\n",
       "<style scoped>\n",
       "    .dataframe tbody tr th:only-of-type {\n",
       "        vertical-align: middle;\n",
       "    }\n",
       "\n",
       "    .dataframe tbody tr th {\n",
       "        vertical-align: top;\n",
       "    }\n",
       "\n",
       "    .dataframe thead th {\n",
       "        text-align: right;\n",
       "    }\n",
       "</style>\n",
       "<table border=\"1\" class=\"dataframe\">\n",
       "  <thead>\n",
       "    <tr style=\"text-align: right;\">\n",
       "      <th></th>\n",
       "      <th>customer_lifetime_value</th>\n",
       "      <th>income</th>\n",
       "      <th>monthly_premium_auto</th>\n",
       "      <th>months_since_last_claim</th>\n",
       "      <th>months_since_policy_inception</th>\n",
       "      <th>number_of_open_complaints</th>\n",
       "      <th>number_of_policies</th>\n",
       "      <th>total_claim_amount</th>\n",
       "    </tr>\n",
       "  </thead>\n",
       "  <tbody>\n",
       "    <tr>\n",
       "      <th>customer_lifetime_value</th>\n",
       "      <td>1.000000</td>\n",
       "      <td>0.024366</td>\n",
       "      <td>0.396262</td>\n",
       "      <td>0.011517</td>\n",
       "      <td>0.009418</td>\n",
       "      <td>-0.036343</td>\n",
       "      <td>0.021955</td>\n",
       "      <td>0.226451</td>\n",
       "    </tr>\n",
       "    <tr>\n",
       "      <th>income</th>\n",
       "      <td>0.024366</td>\n",
       "      <td>1.000000</td>\n",
       "      <td>-0.016665</td>\n",
       "      <td>-0.026715</td>\n",
       "      <td>-0.000875</td>\n",
       "      <td>0.006408</td>\n",
       "      <td>-0.008656</td>\n",
       "      <td>-0.355254</td>\n",
       "    </tr>\n",
       "    <tr>\n",
       "      <th>monthly_premium_auto</th>\n",
       "      <td>0.396262</td>\n",
       "      <td>-0.016665</td>\n",
       "      <td>1.000000</td>\n",
       "      <td>0.005026</td>\n",
       "      <td>0.020257</td>\n",
       "      <td>-0.013122</td>\n",
       "      <td>-0.011233</td>\n",
       "      <td>0.632017</td>\n",
       "    </tr>\n",
       "    <tr>\n",
       "      <th>months_since_last_claim</th>\n",
       "      <td>0.011517</td>\n",
       "      <td>-0.026715</td>\n",
       "      <td>0.005026</td>\n",
       "      <td>1.000000</td>\n",
       "      <td>-0.042959</td>\n",
       "      <td>0.005354</td>\n",
       "      <td>0.009136</td>\n",
       "      <td>0.007563</td>\n",
       "    </tr>\n",
       "    <tr>\n",
       "      <th>months_since_policy_inception</th>\n",
       "      <td>0.009418</td>\n",
       "      <td>-0.000875</td>\n",
       "      <td>0.020257</td>\n",
       "      <td>-0.042959</td>\n",
       "      <td>1.000000</td>\n",
       "      <td>-0.001158</td>\n",
       "      <td>-0.013333</td>\n",
       "      <td>0.003335</td>\n",
       "    </tr>\n",
       "    <tr>\n",
       "      <th>number_of_open_complaints</th>\n",
       "      <td>-0.036343</td>\n",
       "      <td>0.006408</td>\n",
       "      <td>-0.013122</td>\n",
       "      <td>0.005354</td>\n",
       "      <td>-0.001158</td>\n",
       "      <td>1.000000</td>\n",
       "      <td>0.001498</td>\n",
       "      <td>-0.014241</td>\n",
       "    </tr>\n",
       "    <tr>\n",
       "      <th>number_of_policies</th>\n",
       "      <td>0.021955</td>\n",
       "      <td>-0.008656</td>\n",
       "      <td>-0.011233</td>\n",
       "      <td>0.009136</td>\n",
       "      <td>-0.013333</td>\n",
       "      <td>0.001498</td>\n",
       "      <td>1.000000</td>\n",
       "      <td>-0.002354</td>\n",
       "    </tr>\n",
       "    <tr>\n",
       "      <th>total_claim_amount</th>\n",
       "      <td>0.226451</td>\n",
       "      <td>-0.355254</td>\n",
       "      <td>0.632017</td>\n",
       "      <td>0.007563</td>\n",
       "      <td>0.003335</td>\n",
       "      <td>-0.014241</td>\n",
       "      <td>-0.002354</td>\n",
       "      <td>1.000000</td>\n",
       "    </tr>\n",
       "  </tbody>\n",
       "</table>\n",
       "</div>"
      ],
      "text/plain": [
       "                               customer_lifetime_value    income  \\\n",
       "customer_lifetime_value                       1.000000  0.024366   \n",
       "income                                        0.024366  1.000000   \n",
       "monthly_premium_auto                          0.396262 -0.016665   \n",
       "months_since_last_claim                       0.011517 -0.026715   \n",
       "months_since_policy_inception                 0.009418 -0.000875   \n",
       "number_of_open_complaints                    -0.036343  0.006408   \n",
       "number_of_policies                            0.021955 -0.008656   \n",
       "total_claim_amount                            0.226451 -0.355254   \n",
       "\n",
       "                               monthly_premium_auto  months_since_last_claim  \\\n",
       "customer_lifetime_value                    0.396262                 0.011517   \n",
       "income                                    -0.016665                -0.026715   \n",
       "monthly_premium_auto                       1.000000                 0.005026   \n",
       "months_since_last_claim                    0.005026                 1.000000   \n",
       "months_since_policy_inception              0.020257                -0.042959   \n",
       "number_of_open_complaints                 -0.013122                 0.005354   \n",
       "number_of_policies                        -0.011233                 0.009136   \n",
       "total_claim_amount                         0.632017                 0.007563   \n",
       "\n",
       "                               months_since_policy_inception  \\\n",
       "customer_lifetime_value                             0.009418   \n",
       "income                                             -0.000875   \n",
       "monthly_premium_auto                                0.020257   \n",
       "months_since_last_claim                            -0.042959   \n",
       "months_since_policy_inception                       1.000000   \n",
       "number_of_open_complaints                          -0.001158   \n",
       "number_of_policies                                 -0.013333   \n",
       "total_claim_amount                                  0.003335   \n",
       "\n",
       "                               number_of_open_complaints  number_of_policies  \\\n",
       "customer_lifetime_value                        -0.036343            0.021955   \n",
       "income                                          0.006408           -0.008656   \n",
       "monthly_premium_auto                           -0.013122           -0.011233   \n",
       "months_since_last_claim                         0.005354            0.009136   \n",
       "months_since_policy_inception                  -0.001158           -0.013333   \n",
       "number_of_open_complaints                       1.000000            0.001498   \n",
       "number_of_policies                              0.001498            1.000000   \n",
       "total_claim_amount                             -0.014241           -0.002354   \n",
       "\n",
       "                               total_claim_amount  \n",
       "customer_lifetime_value                  0.226451  \n",
       "income                                  -0.355254  \n",
       "monthly_premium_auto                     0.632017  \n",
       "months_since_last_claim                  0.007563  \n",
       "months_since_policy_inception            0.003335  \n",
       "number_of_open_complaints               -0.014241  \n",
       "number_of_policies                      -0.002354  \n",
       "total_claim_amount                       1.000000  "
      ]
     },
     "execution_count": 77,
     "metadata": {},
     "output_type": "execute_result"
    }
   ],
   "source": [
    "correlations_matrix = df.corr()\n",
    "df.corr()"
   ]
  },
  {
   "cell_type": "code",
   "execution_count": 78,
   "metadata": {},
   "outputs": [],
   "source": [
    "# total_claim_amount is highly correlated with monthly_premium_auto and somewhat correlated with income and customer_lifetime_value"
   ]
  },
  {
   "cell_type": "markdown",
   "metadata": {},
   "source": [
    "# 8 Create a function to plot every discrete variable. Do the same with the continuous variables (Be Careful, you may need to \n",
    "# change the plot type to one better suited for continuous data!)"
   ]
  },
  {
   "cell_type": "code",
   "execution_count": 79,
   "metadata": {},
   "outputs": [
    {
     "data": {
      "image/png": "[encoded data removed]",
      "text/plain": [
       "<Figure size 432x288 with 1 Axes>"
      ]
     },
     "metadata": {
      "needs_background": "light"
     },
     "output_type": "display_data"
    }
   ],
   "source": [
    "for col in num_dis.columns:\n",
    "    sns.countplot(x=num_dis[col], data = num_dis)\n",
    "    plt.show()"
   ]
  },
  {
   "cell_type": "code",
   "execution_count": 80,
   "metadata": {},
   "outputs": [
    {
     "name": "stderr",
     "output_type": "stream",
     "text": [
      "C:\\Users\\TgMiles\\anaconda3\\lib\\site-packages\\seaborn\\distributions.py:2619: FutureWarning: `distplot` is a deprecated function and will be removed in a future version. Please adapt your code to use either `displot` (a figure-level function with similar flexibility) or `histplot` (an axes-level function for histograms).\n",
      "  warnings.warn(msg, FutureWarning)\n"
     ]
    },
    {
     "data": {
      "image/png": "[encoded data removed]",
      "text/plain": [
       "<Figure size 432x288 with 1 Axes>"
      ]
     },
     "metadata": {
      "needs_background": "light"
     },
     "output_type": "display_data"
    },
    {
     "name": "stderr",
     "output_type": "stream",
     "text": [
      "C:\\Users\\TgMiles\\anaconda3\\lib\\site-packages\\seaborn\\distributions.py:2619: FutureWarning: `distplot` is a deprecated function and will be removed in a future version. Please adapt your code to use either `displot` (a figure-level function with similar flexibility) or `histplot` (an axes-level function for histograms).\n",
      "  warnings.warn(msg, FutureWarning)\n"
     ]
    },
    {
     "data": {
      "image/png": "[encoded data removed]",
      "text/plain": [
       "<Figure size 432x288 with 1 Axes>"
      ]
     },
     "metadata": {
      "needs_background": "light"
     },
     "output_type": "display_data"
    },
    {
     "name": "stderr",
     "output_type": "stream",
     "text": [
      "C:\\Users\\TgMiles\\anaconda3\\lib\\site-packages\\seaborn\\distributions.py:2619: FutureWarning: `distplot` is a deprecated function and will be removed in a future version. Please adapt your code to use either `displot` (a figure-level function with similar flexibility) or `histplot` (an axes-level function for histograms).\n",
      "  warnings.warn(msg, FutureWarning)\n"
     ]
    },
    {
     "data": {
      "image/png": "[encoded data removed]",
      "text/plain": [
       "<Figure size 432x288 with 1 Axes>"
      ]
     },
     "metadata": {
      "needs_background": "light"
     },
     "output_type": "display_data"
    },
    {
     "name": "stderr",
     "output_type": "stream",
     "text": [
      "C:\\Users\\TgMiles\\anaconda3\\lib\\site-packages\\seaborn\\distributions.py:2619: FutureWarning: `distplot` is a deprecated function and will be removed in a future version. Please adapt your code to use either `displot` (a figure-level function with similar flexibility) or `histplot` (an axes-level function for histograms).\n",
      "  warnings.warn(msg, FutureWarning)\n"
     ]
    },
    {
     "data": {
      "image/png": "[encoded data removed]",
      "text/plain": [
       "<Figure size 432x288 with 1 Axes>"
      ]
     },
     "metadata": {
      "needs_background": "light"
     },
     "output_type": "display_data"
    },
    {
     "name": "stderr",
     "output_type": "stream",
     "text": [
      "C:\\Users\\TgMiles\\anaconda3\\lib\\site-packages\\seaborn\\distributions.py:2619: FutureWarning: `distplot` is a deprecated function and will be removed in a future version. Please adapt your code to use either `displot` (a figure-level function with similar flexibility) or `histplot` (an axes-level function for histograms).\n",
      "  warnings.warn(msg, FutureWarning)\n"
     ]
    },
    {
     "data": {
      "image/png": "[encoded data removed]",
      "text/plain": [
       "<Figure size 432x288 with 1 Axes>"
      ]
     },
     "metadata": {
      "needs_background": "light"
     },
     "output_type": "display_data"
    },
    {
     "name": "stderr",
     "output_type": "stream",
     "text": [
      "C:\\Users\\TgMiles\\anaconda3\\lib\\site-packages\\seaborn\\distributions.py:2619: FutureWarning: `distplot` is a deprecated function and will be removed in a future version. Please adapt your code to use either `displot` (a figure-level function with similar flexibility) or `histplot` (an axes-level function for histograms).\n",
      "  warnings.warn(msg, FutureWarning)\n"
     ]
    },
    {
     "data": {
      "image/png": "[encoded data removed]",
      "text/plain": [
       "<Figure size 432x288 with 1 Axes>"
      ]
     },
     "metadata": {
      "needs_background": "light"
     },
     "output_type": "display_data"
    },
    {
     "name": "stderr",
     "output_type": "stream",
     "text": [
      "C:\\Users\\TgMiles\\anaconda3\\lib\\site-packages\\seaborn\\distributions.py:2619: FutureWarning: `distplot` is a deprecated function and will be removed in a future version. Please adapt your code to use either `displot` (a figure-level function with similar flexibility) or `histplot` (an axes-level function for histograms).\n",
      "  warnings.warn(msg, FutureWarning)\n"
     ]
    },
    {
     "data": {
      "image/png": "[encoded data removed]",
      "text/plain": [
       "<Figure size 432x288 with 1 Axes>"
      ]
     },
     "metadata": {
      "needs_background": "light"
     },
     "output_type": "display_data"
    }
   ],
   "source": [
    "for col in num_con.columns:\n",
    "    sns.distplot(num_con[col], bins=100)\n",
    "    plt.show()"
   ]
  },
  {
   "cell_type": "markdown",
   "metadata": {},
   "source": [
    "# 9 Comment what you can see in the plots."
   ]
  },
  {
   "cell_type": "code",
   "execution_count": 81,
   "metadata": {},
   "outputs": [],
   "source": [
    "# customer_lifetime_value, total_claim_amont and monthly_premium_auto which are all correlated are also skewed."
   ]
  },
  {
   "cell_type": "markdown",
   "metadata": {},
   "source": [
    "# 10 Look for outliers in the continuous variables. (HINT: There’s a good plot to do that!)"
   ]
  },
  {
   "cell_type": "code",
   "execution_count": 82,
   "metadata": {},
   "outputs": [
    {
     "name": "stderr",
     "output_type": "stream",
     "text": [
      "C:\\Users\\TgMiles\\anaconda3\\lib\\site-packages\\seaborn\\_decorators.py:36: FutureWarning: Pass the following variable as a keyword arg: x. From version 0.12, the only valid positional argument will be `data`, and passing other arguments without an explicit keyword will result in an error or misinterpretation.\n",
      "  warnings.warn(\n"
     ]
    },
    {
     "data": {
      "image/png": "[encoded data removed]",
      "text/plain": [
       "<Figure size 432x288 with 1 Axes>"
      ]
     },
     "metadata": {
      "needs_background": "light"
     },
     "output_type": "display_data"
    },
    {
     "name": "stderr",
     "output_type": "stream",
     "text": [
      "C:\\Users\\TgMiles\\anaconda3\\lib\\site-packages\\seaborn\\_decorators.py:36: FutureWarning: Pass the following variable as a keyword arg: x. From version 0.12, the only valid positional argument will be `data`, and passing other arguments without an explicit keyword will result in an error or misinterpretation.\n",
      "  warnings.warn(\n"
     ]
    },
    {
     "data": {
      "image/png": "[encoded data removed]",
      "text/plain": [
       "<Figure size 432x288 with 1 Axes>"
      ]
     },
     "metadata": {
      "needs_background": "light"
     },
     "output_type": "display_data"
    },
    {
     "name": "stderr",
     "output_type": "stream",
     "text": [
      "C:\\Users\\TgMiles\\anaconda3\\lib\\site-packages\\seaborn\\_decorators.py:36: FutureWarning: Pass the following variable as a keyword arg: x. From version 0.12, the only valid positional argument will be `data`, and passing other arguments without an explicit keyword will result in an error or misinterpretation.\n",
      "  warnings.warn(\n"
     ]
    },
    {
     "data": {
      "image/png": "[encoded data removed]",
      "text/plain": [
       "<Figure size 432x288 with 1 Axes>"
      ]
     },
     "metadata": {
      "needs_background": "light"
     },
     "output_type": "display_data"
    },
    {
     "name": "stderr",
     "output_type": "stream",
     "text": [
      "C:\\Users\\TgMiles\\anaconda3\\lib\\site-packages\\seaborn\\_decorators.py:36: FutureWarning: Pass the following variable as a keyword arg: x. From version 0.12, the only valid positional argument will be `data`, and passing other arguments without an explicit keyword will result in an error or misinterpretation.\n",
      "  warnings.warn(\n"
     ]
    },
    {
     "data": {
      "image/png": "[encoded data removed]",
      "text/plain": [
       "<Figure size 432x288 with 1 Axes>"
      ]
     },
     "metadata": {
      "needs_background": "light"
     },
     "output_type": "display_data"
    },
    {
     "name": "stderr",
     "output_type": "stream",
     "text": [
      "C:\\Users\\TgMiles\\anaconda3\\lib\\site-packages\\seaborn\\_decorators.py:36: FutureWarning: Pass the following variable as a keyword arg: x. From version 0.12, the only valid positional argument will be `data`, and passing other arguments without an explicit keyword will result in an error or misinterpretation.\n",
      "  warnings.warn(\n"
     ]
    },
    {
     "data": {
      "image/png": "[encoded data removed]",
      "text/plain": [
       "<Figure size 432x288 with 1 Axes>"
      ]
     },
     "metadata": {
      "needs_background": "light"
     },
     "output_type": "display_data"
    },
    {
     "name": "stderr",
     "output_type": "stream",
     "text": [
      "C:\\Users\\TgMiles\\anaconda3\\lib\\site-packages\\seaborn\\_decorators.py:36: FutureWarning: Pass the following variable as a keyword arg: x. From version 0.12, the only valid positional argument will be `data`, and passing other arguments without an explicit keyword will result in an error or misinterpretation.\n",
      "  warnings.warn(\n"
     ]
    },
    {
     "data": {
      "image/png": "[encoded data removed]",
      "text/plain": [
       "<Figure size 432x288 with 1 Axes>"
      ]
     },
     "metadata": {
      "needs_background": "light"
     },
     "output_type": "display_data"
    },
    {
     "name": "stderr",
     "output_type": "stream",
     "text": [
      "C:\\Users\\TgMiles\\anaconda3\\lib\\site-packages\\seaborn\\_decorators.py:36: FutureWarning: Pass the following variable as a keyword arg: x. From version 0.12, the only valid positional argument will be `data`, and passing other arguments without an explicit keyword will result in an error or misinterpretation.\n",
      "  warnings.warn(\n"
     ]
    },
    {
     "data": {
      "image/png": "[encoded data removed]",
      "text/plain": [
       "<Figure size 432x288 with 1 Axes>"
      ]
     },
     "metadata": {
      "needs_background": "light"
     },
     "output_type": "display_data"
    }
   ],
   "source": [
    "for col in num_con.columns:\n",
    "    sns.boxplot(num_con[col])\n",
    "    plt.show()"
   ]
  },
  {
   "cell_type": "code",
   "execution_count": 83,
   "metadata": {},
   "outputs": [],
   "source": [
    "# customer_lifetime_value, total_claim_amont and monthly_premium_auto all have a lot of outliers"
   ]
  },
  {
   "cell_type": "markdown",
   "metadata": {},
   "source": [
    "# 11 Did you find outliers? Comment what you will do with them."
   ]
  },
  {
   "cell_type": "code",
   "execution_count": 84,
   "metadata": {},
   "outputs": [],
   "source": [
    "# I remove the outliers "
   ]
  },
  {
   "cell_type": "code",
   "execution_count": 85,
   "metadata": {},
   "outputs": [],
   "source": [
    "mpa = num_con['monthly_premium_auto']\n",
    "clv = num_con['customer_lifetime_value']\n",
    "tca = num_con['total_claim_amount']"
   ]
  },
  {
   "cell_type": "code",
   "execution_count": 86,
   "metadata": {},
   "outputs": [],
   "source": [
    "iqr = np.percentile(mpa,75) - np.percentile(mpa,25)\n",
    "upper_limit = np.percentile(mpa,75) + 1.5*iqr\n",
    "lower_limit = np.percentile(mpa,25) - 1.5*iqr\n",
    "mpa = mpa[(mpa>lower_limit) & (mpa<upper_limit)]"
   ]
  },
  {
   "cell_type": "code",
   "execution_count": 87,
   "metadata": {},
   "outputs": [],
   "source": [
    "iqr = np.percentile(clv,75) - np.percentile(clv,25)\n",
    "upper_limit = np.percentile(clv,75) + 1.5*iqr\n",
    "lower_limit = np.percentile(clv,25) - 1.5*iqr\n",
    "clv = clv[(clv>lower_limit) & (clv<upper_limit)]"
   ]
  },
  {
   "cell_type": "code",
   "execution_count": 88,
   "metadata": {},
   "outputs": [],
   "source": [
    "iqr = np.percentile(tca,75) - np.percentile(tca,25)\n",
    "upper_limit = np.percentile(tca,75) + 1.5*iqr\n",
    "lower_limit = np.percentile(tca,25) - 1.5*iqr\n",
    "tca = tca[(tca>lower_limit) & (tca<upper_limit)]"
   ]
  },
  {
   "cell_type": "markdown",
   "metadata": {},
   "source": [
    "# 12 Check all columns for NaN values. Decide what (if anything) you will need to do with them."
   ]
  },
  {
   "cell_type": "code",
   "execution_count": 92,
   "metadata": {},
   "outputs": [
    {
     "data": {
      "text/plain": [
       "customer                         0\n",
       "state                            0\n",
       "customer_lifetime_value          0\n",
       "response                         0\n",
       "coverage                         0\n",
       "education                        0\n",
       "effective_to_date                0\n",
       "employmentstatus                 0\n",
       "gender                           0\n",
       "income                           0\n",
       "location_code                    0\n",
       "marital_status                   0\n",
       "monthly_premium_auto             0\n",
       "months_since_last_claim          0\n",
       "months_since_policy_inception    0\n",
       "number_of_open_complaints        0\n",
       "number_of_policies               0\n",
       "policy_type                      0\n",
       "policy                           0\n",
       "renew_offer_type                 0\n",
       "sales_channel                    0\n",
       "total_claim_amount               0\n",
       "vehicle_class                    0\n",
       "vehicle_size                     0\n",
       "dtype: int64"
      ]
     },
     "execution_count": 92,
     "metadata": {},
     "output_type": "execute_result"
    }
   ],
   "source": [
    "df.isna().sum()\n",
    "# there are no NaN values"
   ]
  },
  {
   "cell_type": "code",
   "execution_count": null,
   "metadata": {},
   "outputs": [],
   "source": []
  }
 ],
 "metadata": {
  "kernelspec": {
   "display_name": "Python 3 (ipykernel)",
   "language": "python",
   "name": "python3"
  },
  "language_info": {
   "codemirror_mode": {
    "name": "ipython",
    "version": 3
   },
   "file_extension": ".py",
   "mimetype": "text/x-python",
   "name": "python",
   "nbconvert_exporter": "python",
   "pygments_lexer": "ipython3",
   "version": "3.9.7"
  },
  "toc-autonumbering": false
 },
 "nbformat": 4,
 "nbformat_minor": 4
}
